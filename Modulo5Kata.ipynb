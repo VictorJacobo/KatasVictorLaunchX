{
 "cells": [
  {
   "cell_type": "markdown",
   "metadata": {},
   "source": [
    "#Ejercicio 1"
   ]
  },
  {
   "cell_type": "code",
   "execution_count": 2,
   "metadata": {},
   "outputs": [],
   "source": [
    "#Crear variables para almacenar las distancias\n",
    "Tierra = 149597870\n",
    "Jupiter = 778547200"
   ]
  },
  {
   "cell_type": "code",
   "execution_count": 6,
   "metadata": {},
   "outputs": [
    {
     "name": "stdout",
     "output_type": "stream",
     "text": [
      "La distancia entre ambos planetas es: 628949330 Km\n",
      "La distancia entre ambos planetas es: 390577534 Mi\n"
     ]
    }
   ],
   "source": [
    "#Calcular la distancia entre planetas\n",
    "distanciaKm = abs(Tierra - Jupiter)\n",
    "print(\"La distancia entre ambos planetas es: \"+str(distanciaKm)+\" Km\")\n",
    "\n",
    "distanciaMi = distanciaKm * 0.621\n",
    "print(\"La distancia entre ambos planetas es: \"+str(round(distanciaMi))+\" Mi\")"
   ]
  },
  {
   "cell_type": "markdown",
   "metadata": {},
   "source": [
    "#Ejercicio 2"
   ]
  },
  {
   "cell_type": "code",
   "execution_count": 7,
   "metadata": {},
   "outputs": [],
   "source": [
    "#Almacenar las entradas del usuario\n",
    "planeta1 = input(\"Introduzca la distancia del sol del planeta 1: \")\n",
    "planeta2 = input(\"Introduzca la distancia del sol del planeta 2: \")"
   ]
  },
  {
   "cell_type": "code",
   "execution_count": 8,
   "metadata": {},
   "outputs": [],
   "source": [
    "#Convertir las cadenas a numeros enteros\n",
    "planeta1 = int(planeta1)\n",
    "planeta2 = int(planeta2)"
   ]
  },
  {
   "cell_type": "code",
   "execution_count": 9,
   "metadata": {},
   "outputs": [
    {
     "name": "stdout",
     "output_type": "stream",
     "text": [
      "La distancia entre ambos planetas es: 12111088889 Km\n",
      "La distancia entre ambos planetas es: 7520986200 Mi\n"
     ]
    }
   ],
   "source": [
    "#Realizar el calculo y determinar el valor absoluto\n",
    "#Calcular la distancia entre planetas\n",
    "distanciaKm = abs(planeta1 - planeta2)\n",
    "print(\"La distancia entre ambos planetas es: \"+str(distanciaKm)+\" Km\")\n",
    "\n",
    "distanciaMi = distanciaKm * 0.621\n",
    "print(\"La distancia entre ambos planetas es: \"+str(round(distanciaMi))+\" Mi\")"
   ]
  }
 ],
 "metadata": {
  "interpreter": {
   "hash": "98a93acc6e8f7eb0b242d73206c2ed9f2f3907389856fdeec560eaffa889d6cc"
  },
  "kernelspec": {
   "display_name": "Python 3.10.2 64-bit",
   "language": "python",
   "name": "python3"
  },
  "language_info": {
   "codemirror_mode": {
    "name": "ipython",
    "version": 3
   },
   "file_extension": ".py",
   "mimetype": "text/x-python",
   "name": "python",
   "nbconvert_exporter": "python",
   "pygments_lexer": "ipython3",
   "version": "3.10.2"
  },
  "orig_nbformat": 4
 },
 "nbformat": 4,
 "nbformat_minor": 2
}
