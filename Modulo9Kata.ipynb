{
 "cells": [
  {
   "cell_type": "markdown",
   "metadata": {},
   "source": [
    "#Ejercicio 1"
   ]
  },
  {
   "cell_type": "code",
   "execution_count": 4,
   "metadata": {},
   "outputs": [],
   "source": [
    "#Funcion para leer 3 tanques de combustible y muestre el promedio\n",
    "def reporteTanques(tanque1, tanque2, tanque3):\n",
    "    promedio=(tanque1 + tanque2 + tanque3) / 3\n",
    "    return f\"\"\"Reporte de combustible:\n",
    "    Promedio: {promedio}%\n",
    "    Tanque 1: {tanque1}%\n",
    "    Tanque 2: {tanque2}%\n",
    "    Tanque 3: {tanque3}%\n",
    "    \"\"\""
   ]
  },
  {
   "cell_type": "code",
   "execution_count": 6,
   "metadata": {},
   "outputs": [
    {
     "name": "stdout",
     "output_type": "stream",
     "text": [
      "Reporte de combustible:\n",
      "    Promedio: 67.33333333333333%\n",
      "    Tanque 1: 50%\n",
      "    Tanque 2: 87%\n",
      "    Tanque 3: 65%\n",
      "    \n"
     ]
    }
   ],
   "source": [
    "#Imprimir el reporte\n",
    "print(reporteTanques(50, 87, 65))"
   ]
  },
  {
   "cell_type": "code",
   "execution_count": 1,
   "metadata": {},
   "outputs": [
    {
     "data": {
      "text/plain": [
       "59.666666666666664"
      ]
     },
     "execution_count": 1,
     "metadata": {},
     "output_type": "execute_result"
    }
   ],
   "source": [
    "#Funcion promedio\n",
    "def promedio(tanque1, tanque2, tanque3):\n",
    "    return (tanque1 + tanque2 + tanque3) / 3\n",
    "\n",
    "#Probando la funcion\n",
    "promedio(29, 67,83)"
   ]
  },
  {
   "cell_type": "code",
   "execution_count": 3,
   "metadata": {},
   "outputs": [
    {
     "name": "stdout",
     "output_type": "stream",
     "text": [
      "Reporte de combustible:\n",
      "    Promedio: 58.666666666666664%\n",
      "    Tanque 1: 28%\n",
      "    Tanque 2: 92%\n",
      "    Tanque 3: 56%\n",
      "    \n"
     ]
    }
   ],
   "source": [
    "#Actualizamos la funcion\n",
    "def reporteTanques(tanque1, tanque2, tanque3):\n",
    "    return f\"\"\"Reporte de combustible:\n",
    "    Promedio: {promedio(tanque1, tanque2, tanque3)}%\n",
    "    Tanque 1: {tanque1}%\n",
    "    Tanque 2: {tanque2}%\n",
    "    Tanque 3: {tanque3}%\n",
    "    \"\"\"\n",
    "#PRobamos la nueva funcion\n",
    "print(reporteTanques(28, 92, 56))"
   ]
  },
  {
   "cell_type": "markdown",
   "metadata": {},
   "source": [
    "#Ejercicio 2"
   ]
  },
  {
   "cell_type": "code",
   "execution_count": 4,
   "metadata": {},
   "outputs": [
    {
     "name": "stdout",
     "output_type": "stream",
     "text": [
      "\n",
      "    Mission hacia Marte\n",
      "    Tota de tiempo de viaje: 76 minutos\n",
      "    Combustible disponible: 2866777 galones\n",
      "    \n"
     ]
    }
   ],
   "source": [
    "# Función con un informe preciso de la misión.\n",
    "def reporteMision(horaPrelanzamiento, tiempoVuelo, destino, tanqueExterno, tanqueInterno):\n",
    "    return f\"\"\"\n",
    "    Mision hacia {destino}\n",
    "    Tiempo total de viaje: {horaPrelanzamiento + tiempoVuelo} minutos\n",
    "    Combustible disponible: {tanqueExterno + tanqueInterno} galones\n",
    "    \"\"\"\n",
    "\n",
    "print(reporteMision(27, 49, \"Marte\", 2345543, 521234))"
   ]
  },
  {
   "cell_type": "code",
   "execution_count": 7,
   "metadata": {},
   "outputs": [
    {
     "name": "stdout",
     "output_type": "stream",
     "text": [
      "\n",
      "    Mision hacia Luna\n",
      "    Tiempo total de viaje: 96 minutes\n",
      "    Combustible disponible: 500000\n",
      "    \n"
     ]
    }
   ],
   "source": [
    "#Nueva funcion de reporte\n",
    "def reporteMision(destino, *minutes, **fuel_reservoirs):\n",
    "    return f\"\"\"\n",
    "    Mision hacia {destino}\n",
    "    Tiempo total de viaje: {sum(minutes)} minutes\n",
    "    Combustible disponible: {sum(fuel_reservoirs.values())}\n",
    "    \"\"\"\n",
    "\n",
    "print(reporteMision(\"Luna\", 30, 15, 51, main=300000, external=200000))"
   ]
  },
  {
   "cell_type": "code",
   "execution_count": 8,
   "metadata": {},
   "outputs": [
    {
     "name": "stdout",
     "output_type": "stream",
     "text": [
      "\n",
      "    Mision hacia Jupiter\n",
      "    Tiempo total de viaje: 69 minutos\n",
      "    Combustible disponible: 500000\n",
      "    tanque1: 300000 galones\n",
      "tanque2: 200000 galones\n",
      "\n"
     ]
    }
   ],
   "source": [
    "#Nueva funcion 2\n",
    "def reporteMision(destino, *minutes, **fuel_reservoirs):\n",
    "    reporte = f\"\"\"\n",
    "    Mision hacia {destino}\n",
    "    Tiempo total de viaje: {sum(minutes)} minutos\n",
    "    Combustible disponible: {sum(fuel_reservoirs.values())}\n",
    "    \"\"\"\n",
    "    for tanque, galones in fuel_reservoirs.items():\n",
    "        reporte += f\"{tanque}: {galones} galones\\n\"\n",
    "    return reporte\n",
    "\n",
    "print(reporteMision(\"Jupiter\", 9, 15, 45, tanque1=300000, tanque2=200000))"
   ]
  }
 ],
 "metadata": {
  "interpreter": {
   "hash": "98a93acc6e8f7eb0b242d73206c2ed9f2f3907389856fdeec560eaffa889d6cc"
  },
  "kernelspec": {
   "display_name": "Python 3.10.2 64-bit",
   "language": "python",
   "name": "python3"
  },
  "language_info": {
   "codemirror_mode": {
    "name": "ipython",
    "version": 3
   },
   "file_extension": ".py",
   "mimetype": "text/x-python",
   "name": "python",
   "nbconvert_exporter": "python",
   "pygments_lexer": "ipython3",
   "version": "3.10.2"
  },
  "orig_nbformat": 4
 },
 "nbformat": 4,
 "nbformat_minor": 2
}
